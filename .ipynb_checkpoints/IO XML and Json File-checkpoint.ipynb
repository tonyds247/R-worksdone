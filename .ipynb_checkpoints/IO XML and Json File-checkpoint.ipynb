{
 "cells": [
  {
   "cell_type": "markdown",
   "id": "6da8d5c6",
   "metadata": {},
   "source": [
    "### Here we will read and write an xml/Json file"
   ]
  },
  {
   "cell_type": "code",
   "execution_count": 1,
   "id": "5c457264",
   "metadata": {},
   "outputs": [
    {
     "name": "stderr",
     "output_type": "stream",
     "text": [
      "── \u001b[1mAttaching packages\u001b[22m ─────────────────────────────────────── tidyverse 1.3.2 ──\n",
      "\u001b[32m✔\u001b[39m \u001b[34mggplot2\u001b[39m 3.4.0      \u001b[32m✔\u001b[39m \u001b[34mpurrr  \u001b[39m 0.3.5 \n",
      "\u001b[32m✔\u001b[39m \u001b[34mtibble \u001b[39m 3.1.8      \u001b[32m✔\u001b[39m \u001b[34mdplyr  \u001b[39m 1.0.10\n",
      "\u001b[32m✔\u001b[39m \u001b[34mtidyr  \u001b[39m 1.2.1      \u001b[32m✔\u001b[39m \u001b[34mstringr\u001b[39m 1.4.1 \n",
      "\u001b[32m✔\u001b[39m \u001b[34mreadr  \u001b[39m 2.1.3      \u001b[32m✔\u001b[39m \u001b[34mforcats\u001b[39m 0.5.2 \n",
      "── \u001b[1mConflicts\u001b[22m ────────────────────────────────────────── tidyverse_conflicts() ──\n",
      "\u001b[31m✖\u001b[39m \u001b[34mdplyr\u001b[39m::\u001b[32mfilter()\u001b[39m masks \u001b[34mstats\u001b[39m::filter()\n",
      "\u001b[31m✖\u001b[39m \u001b[34mdplyr\u001b[39m::\u001b[32mlag()\u001b[39m    masks \u001b[34mstats\u001b[39m::lag()\n",
      "\n",
      "Attaching package: ‘jsonlite’\n",
      "\n",
      "\n",
      "The following object is masked from ‘package:purrr’:\n",
      "\n",
      "    flatten\n",
      "\n",
      "\n"
     ]
    }
   ],
   "source": [
    "### libraries \n",
    "library('XML')\n",
    "library('methods')\n",
    "library('tidyverse')\n",
    "library('httr')\n",
    "library('jsonlite')"
   ]
  },
  {
   "cell_type": "markdown",
   "id": "cb3f3aff",
   "metadata": {},
   "source": [
    "#### XML"
   ]
  },
  {
   "cell_type": "code",
   "execution_count": 2,
   "id": "cdfa5659",
   "metadata": {},
   "outputs": [],
   "source": [
    "### read xml file from folder\n",
    "data <- xmlToDataFrame('data/data_10/root_data/cd.xml')"
   ]
  },
  {
   "cell_type": "code",
   "execution_count": 3,
   "id": "713636bc",
   "metadata": {
    "scrolled": true
   },
   "outputs": [
    {
     "data": {
      "text/html": [
       "<table class=\"dataframe\">\n",
       "<caption>A data.frame: 7 × 6</caption>\n",
       "<thead>\n",
       "\t<tr><th scope=col>TITLE</th><th scope=col>ARTIST</th><th scope=col>COUNTRY</th><th scope=col>COMPANY</th><th scope=col>PRICE</th><th scope=col>YEAR</th></tr>\n",
       "\t<tr><th scope=col>&lt;chr&gt;</th><th scope=col>&lt;chr&gt;</th><th scope=col>&lt;chr&gt;</th><th scope=col>&lt;chr&gt;</th><th scope=col>&lt;chr&gt;</th><th scope=col>&lt;chr&gt;</th></tr>\n",
       "</thead>\n",
       "<tbody>\n",
       "\t<tr><td>Empire Burlesque        </td><td>Bob Dylan   </td><td>USA</td><td>Columbia    </td><td>10.90</td><td>1985</td></tr>\n",
       "\t<tr><td>Greatest Hits           </td><td>Dolly Parton</td><td>USA</td><td>RCA         </td><td>9.90 </td><td>1982</td></tr>\n",
       "\t<tr><td>When a man loves a woman</td><td>Percy Sledge</td><td>USA</td><td>Atlantic    </td><td>8.70 </td><td>1987</td></tr>\n",
       "\t<tr><td>1999 Grammy Nominees    </td><td>Many        </td><td>USA</td><td>Grammy      </td><td>10.20</td><td>1999</td></tr>\n",
       "\t<tr><td>Big Willie style        </td><td>Will Smith  </td><td>USA</td><td>Columbia    </td><td>9.90 </td><td>1997</td></tr>\n",
       "\t<tr><td>The dock of the bay     </td><td>Otis Redding</td><td>USA</td><td>Stax Records</td><td>7.90 </td><td>1968</td></tr>\n",
       "\t<tr><td>Unchain my heart        </td><td>Joe Cocker  </td><td>USA</td><td>EMI         </td><td>8.20 </td><td>1987</td></tr>\n",
       "</tbody>\n",
       "</table>\n"
      ],
      "text/latex": [
       "A data.frame: 7 × 6\n",
       "\\begin{tabular}{llllll}\n",
       " TITLE & ARTIST & COUNTRY & COMPANY & PRICE & YEAR\\\\\n",
       " <chr> & <chr> & <chr> & <chr> & <chr> & <chr>\\\\\n",
       "\\hline\n",
       "\t Empire Burlesque         & Bob Dylan    & USA & Columbia     & 10.90 & 1985\\\\\n",
       "\t Greatest Hits            & Dolly Parton & USA & RCA          & 9.90  & 1982\\\\\n",
       "\t When a man loves a woman & Percy Sledge & USA & Atlantic     & 8.70  & 1987\\\\\n",
       "\t 1999 Grammy Nominees     & Many         & USA & Grammy       & 10.20 & 1999\\\\\n",
       "\t Big Willie style         & Will Smith   & USA & Columbia     & 9.90  & 1997\\\\\n",
       "\t The dock of the bay      & Otis Redding & USA & Stax Records & 7.90  & 1968\\\\\n",
       "\t Unchain my heart         & Joe Cocker   & USA & EMI          & 8.20  & 1987\\\\\n",
       "\\end{tabular}\n"
      ],
      "text/markdown": [
       "\n",
       "A data.frame: 7 × 6\n",
       "\n",
       "| TITLE &lt;chr&gt; | ARTIST &lt;chr&gt; | COUNTRY &lt;chr&gt; | COMPANY &lt;chr&gt; | PRICE &lt;chr&gt; | YEAR &lt;chr&gt; |\n",
       "|---|---|---|---|---|---|\n",
       "| Empire Burlesque         | Bob Dylan    | USA | Columbia     | 10.90 | 1985 |\n",
       "| Greatest Hits            | Dolly Parton | USA | RCA          | 9.90  | 1982 |\n",
       "| When a man loves a woman | Percy Sledge | USA | Atlantic     | 8.70  | 1987 |\n",
       "| 1999 Grammy Nominees     | Many         | USA | Grammy       | 10.20 | 1999 |\n",
       "| Big Willie style         | Will Smith   | USA | Columbia     | 9.90  | 1997 |\n",
       "| The dock of the bay      | Otis Redding | USA | Stax Records | 7.90  | 1968 |\n",
       "| Unchain my heart         | Joe Cocker   | USA | EMI          | 8.20  | 1987 |\n",
       "\n"
      ],
      "text/plain": [
       "  TITLE                    ARTIST       COUNTRY COMPANY      PRICE YEAR\n",
       "1 Empire Burlesque         Bob Dylan    USA     Columbia     10.90 1985\n",
       "2 Greatest Hits            Dolly Parton USA     RCA          9.90  1982\n",
       "3 When a man loves a woman Percy Sledge USA     Atlantic     8.70  1987\n",
       "4 1999 Grammy Nominees     Many         USA     Grammy       10.20 1999\n",
       "5 Big Willie style         Will Smith   USA     Columbia     9.90  1997\n",
       "6 The dock of the bay      Otis Redding USA     Stax Records 7.90  1968\n",
       "7 Unchain my heart         Joe Cocker   USA     EMI          8.20  1987"
      ]
     },
     "metadata": {},
     "output_type": "display_data"
    }
   ],
   "source": [
    "data"
   ]
  },
  {
   "cell_type": "code",
   "execution_count": 4,
   "id": "a13df9b9",
   "metadata": {},
   "outputs": [
    {
     "data": {
      "text/html": [
       "<table class=\"dataframe\">\n",
       "<caption>A data.frame: 7 × 6</caption>\n",
       "<thead>\n",
       "\t<tr><th></th><th scope=col>TITLE</th><th scope=col>ARTIST</th><th scope=col>COUNTRY</th><th scope=col>COMPANY</th><th scope=col>PRICE</th><th scope=col>YEAR</th></tr>\n",
       "\t<tr><th></th><th scope=col>&lt;chr&gt;</th><th scope=col>&lt;chr&gt;</th><th scope=col>&lt;chr&gt;</th><th scope=col>&lt;chr&gt;</th><th scope=col>&lt;chr&gt;</th><th scope=col>&lt;chr&gt;</th></tr>\n",
       "</thead>\n",
       "<tbody>\n",
       "\t<tr><th scope=row>1</th><td>Empire Burlesque        </td><td>Bob Dylan   </td><td>USA</td><td>Columbia    </td><td>10.90</td><td>1985</td></tr>\n",
       "\t<tr><th scope=row>2</th><td>Greatest Hits           </td><td>Dolly Parton</td><td>USA</td><td>RCA         </td><td>9.90 </td><td>1982</td></tr>\n",
       "\t<tr><th scope=row>3</th><td>When a man loves a woman</td><td>Percy Sledge</td><td>USA</td><td>Atlantic    </td><td>8.70 </td><td>1987</td></tr>\n",
       "\t<tr><th scope=row>4</th><td>1999 Grammy Nominees    </td><td>Many        </td><td>USA</td><td>Grammy      </td><td>10.20</td><td>1999</td></tr>\n",
       "\t<tr><th scope=row>5</th><td>Big Willie style        </td><td>Will Smith  </td><td>USA</td><td>Columbia    </td><td>9.90 </td><td>1997</td></tr>\n",
       "\t<tr><th scope=row>6</th><td>The dock of the bay     </td><td>Otis Redding</td><td>USA</td><td>Stax Records</td><td>7.90 </td><td>1968</td></tr>\n",
       "\t<tr><th scope=row>7</th><td>Unchain my heart        </td><td>Joe Cocker  </td><td>USA</td><td>EMI         </td><td>8.20 </td><td>1987</td></tr>\n",
       "</tbody>\n",
       "</table>\n"
      ],
      "text/latex": [
       "A data.frame: 7 × 6\n",
       "\\begin{tabular}{r|llllll}\n",
       "  & TITLE & ARTIST & COUNTRY & COMPANY & PRICE & YEAR\\\\\n",
       "  & <chr> & <chr> & <chr> & <chr> & <chr> & <chr>\\\\\n",
       "\\hline\n",
       "\t1 & Empire Burlesque         & Bob Dylan    & USA & Columbia     & 10.90 & 1985\\\\\n",
       "\t2 & Greatest Hits            & Dolly Parton & USA & RCA          & 9.90  & 1982\\\\\n",
       "\t3 & When a man loves a woman & Percy Sledge & USA & Atlantic     & 8.70  & 1987\\\\\n",
       "\t4 & 1999 Grammy Nominees     & Many         & USA & Grammy       & 10.20 & 1999\\\\\n",
       "\t5 & Big Willie style         & Will Smith   & USA & Columbia     & 9.90  & 1997\\\\\n",
       "\t6 & The dock of the bay      & Otis Redding & USA & Stax Records & 7.90  & 1968\\\\\n",
       "\t7 & Unchain my heart         & Joe Cocker   & USA & EMI          & 8.20  & 1987\\\\\n",
       "\\end{tabular}\n"
      ],
      "text/markdown": [
       "\n",
       "A data.frame: 7 × 6\n",
       "\n",
       "| <!--/--> | TITLE &lt;chr&gt; | ARTIST &lt;chr&gt; | COUNTRY &lt;chr&gt; | COMPANY &lt;chr&gt; | PRICE &lt;chr&gt; | YEAR &lt;chr&gt; |\n",
       "|---|---|---|---|---|---|---|\n",
       "| 1 | Empire Burlesque         | Bob Dylan    | USA | Columbia     | 10.90 | 1985 |\n",
       "| 2 | Greatest Hits            | Dolly Parton | USA | RCA          | 9.90  | 1982 |\n",
       "| 3 | When a man loves a woman | Percy Sledge | USA | Atlantic     | 8.70  | 1987 |\n",
       "| 4 | 1999 Grammy Nominees     | Many         | USA | Grammy       | 10.20 | 1999 |\n",
       "| 5 | Big Willie style         | Will Smith   | USA | Columbia     | 9.90  | 1997 |\n",
       "| 6 | The dock of the bay      | Otis Redding | USA | Stax Records | 7.90  | 1968 |\n",
       "| 7 | Unchain my heart         | Joe Cocker   | USA | EMI          | 8.20  | 1987 |\n",
       "\n"
      ],
      "text/plain": [
       "  TITLE                    ARTIST       COUNTRY COMPANY      PRICE YEAR\n",
       "1 Empire Burlesque         Bob Dylan    USA     Columbia     10.90 1985\n",
       "2 Greatest Hits            Dolly Parton USA     RCA          9.90  1982\n",
       "3 When a man loves a woman Percy Sledge USA     Atlantic     8.70  1987\n",
       "4 1999 Grammy Nominees     Many         USA     Grammy       10.20 1999\n",
       "5 Big Willie style         Will Smith   USA     Columbia     9.90  1997\n",
       "6 The dock of the bay      Otis Redding USA     Stax Records 7.90  1968\n",
       "7 Unchain my heart         Joe Cocker   USA     EMI          8.20  1987"
      ]
     },
     "metadata": {},
     "output_type": "display_data"
    }
   ],
   "source": [
    "### get data Country == USA\n",
    "CDs_USA = data[data['COUNTRY']=='USA',]\n",
    "CDs_USA"
   ]
  },
  {
   "cell_type": "code",
   "execution_count": 5,
   "id": "891c59b4",
   "metadata": {},
   "outputs": [],
   "source": [
    "### create XML from Dataframe\n",
    "doc = newXMLDoc()\n",
    "### create rootnode\n",
    "top = newXMLNode('CATALOG', doc = doc)\n",
    "### loop for each row in Dataframe\n",
    "for (row in 1:nrow(CDs_USA)){\n",
    "    cdnode = newXMLNode('CD', parent = top) ## create rootnode, its parent node is top\n",
    "    newXMLNode('TITLE', CDs_USA[row, 'TITLE'], parent=cdnode) # 'TITLE' is node name, its parent is cnode\n",
    "    newXMLNode('ARTIST', CDs_USA[row, 'ARTIST'], parent=cdnode)\n",
    "    newXMLNode('COUNTRY', CDs_USA[row, 'COUNTRY'], parent=cdnode)\n",
    "    newXMLNode('COMPANY', CDs_USA[row, 'COMPANY'], parent=cdnode)\n",
    "    newXMLNode('PRICE', CDs_USA[row, 'PRICE'], parent=cdnode)\n",
    "    newXMLNode('YEAR', CDs_USA[row, 'YEAR'], parent=cdnode)\n",
    "}\n"
   ]
  },
  {
   "cell_type": "code",
   "execution_count": 6,
   "id": "10e234f9",
   "metadata": {
    "scrolled": true
   },
   "outputs": [],
   "source": [
    "### Write XML\n",
    "cat(saveXML(doc, indent = TRUE,\n",
    "           prefix = \"<?xml version=\\\"1.0\\\" encoding=\\\"utf-8\\\" standalone=\\\"no\\\"?>\\n\"),\n",
    "   file='data/data_10/root_data/cd_usa.xml')"
   ]
  },
  {
   "cell_type": "code",
   "execution_count": 7,
   "id": "554566f4",
   "metadata": {
    "scrolled": true
   },
   "outputs": [
    {
     "data": {
      "text/html": [
       "<table class=\"dataframe\">\n",
       "<caption>A data.frame: 6 × 6</caption>\n",
       "<thead>\n",
       "\t<tr><th></th><th scope=col>TITLE</th><th scope=col>ARTIST</th><th scope=col>COUNTRY</th><th scope=col>COMPANY</th><th scope=col>PRICE</th><th scope=col>YEAR</th></tr>\n",
       "\t<tr><th></th><th scope=col>&lt;chr&gt;</th><th scope=col>&lt;chr&gt;</th><th scope=col>&lt;chr&gt;</th><th scope=col>&lt;chr&gt;</th><th scope=col>&lt;chr&gt;</th><th scope=col>&lt;chr&gt;</th></tr>\n",
       "</thead>\n",
       "<tbody>\n",
       "\t<tr><th scope=row>1</th><td>Empire Burlesque        </td><td>Bob Dylan   </td><td>USA</td><td>Columbia    </td><td>10.90</td><td>1985</td></tr>\n",
       "\t<tr><th scope=row>2</th><td>Greatest Hits           </td><td>Dolly Parton</td><td>USA</td><td>RCA         </td><td>9.90 </td><td>1982</td></tr>\n",
       "\t<tr><th scope=row>3</th><td>When a man loves a woman</td><td>Percy Sledge</td><td>USA</td><td>Atlantic    </td><td>8.70 </td><td>1987</td></tr>\n",
       "\t<tr><th scope=row>4</th><td>1999 Grammy Nominees    </td><td>Many        </td><td>USA</td><td>Grammy      </td><td>10.20</td><td>1999</td></tr>\n",
       "\t<tr><th scope=row>5</th><td>Big Willie style        </td><td>Will Smith  </td><td>USA</td><td>Columbia    </td><td>9.90 </td><td>1997</td></tr>\n",
       "\t<tr><th scope=row>6</th><td>The dock of the bay     </td><td>Otis Redding</td><td>USA</td><td>Stax Records</td><td>7.90 </td><td>1968</td></tr>\n",
       "</tbody>\n",
       "</table>\n"
      ],
      "text/latex": [
       "A data.frame: 6 × 6\n",
       "\\begin{tabular}{r|llllll}\n",
       "  & TITLE & ARTIST & COUNTRY & COMPANY & PRICE & YEAR\\\\\n",
       "  & <chr> & <chr> & <chr> & <chr> & <chr> & <chr>\\\\\n",
       "\\hline\n",
       "\t1 & Empire Burlesque         & Bob Dylan    & USA & Columbia     & 10.90 & 1985\\\\\n",
       "\t2 & Greatest Hits            & Dolly Parton & USA & RCA          & 9.90  & 1982\\\\\n",
       "\t3 & When a man loves a woman & Percy Sledge & USA & Atlantic     & 8.70  & 1987\\\\\n",
       "\t4 & 1999 Grammy Nominees     & Many         & USA & Grammy       & 10.20 & 1999\\\\\n",
       "\t5 & Big Willie style         & Will Smith   & USA & Columbia     & 9.90  & 1997\\\\\n",
       "\t6 & The dock of the bay      & Otis Redding & USA & Stax Records & 7.90  & 1968\\\\\n",
       "\\end{tabular}\n"
      ],
      "text/markdown": [
       "\n",
       "A data.frame: 6 × 6\n",
       "\n",
       "| <!--/--> | TITLE &lt;chr&gt; | ARTIST &lt;chr&gt; | COUNTRY &lt;chr&gt; | COMPANY &lt;chr&gt; | PRICE &lt;chr&gt; | YEAR &lt;chr&gt; |\n",
       "|---|---|---|---|---|---|---|\n",
       "| 1 | Empire Burlesque         | Bob Dylan    | USA | Columbia     | 10.90 | 1985 |\n",
       "| 2 | Greatest Hits            | Dolly Parton | USA | RCA          | 9.90  | 1982 |\n",
       "| 3 | When a man loves a woman | Percy Sledge | USA | Atlantic     | 8.70  | 1987 |\n",
       "| 4 | 1999 Grammy Nominees     | Many         | USA | Grammy       | 10.20 | 1999 |\n",
       "| 5 | Big Willie style         | Will Smith   | USA | Columbia     | 9.90  | 1997 |\n",
       "| 6 | The dock of the bay      | Otis Redding | USA | Stax Records | 7.90  | 1968 |\n",
       "\n"
      ],
      "text/plain": [
       "  TITLE                    ARTIST       COUNTRY COMPANY      PRICE YEAR\n",
       "1 Empire Burlesque         Bob Dylan    USA     Columbia     10.90 1985\n",
       "2 Greatest Hits            Dolly Parton USA     RCA          9.90  1982\n",
       "3 When a man loves a woman Percy Sledge USA     Atlantic     8.70  1987\n",
       "4 1999 Grammy Nominees     Many         USA     Grammy       10.20 1999\n",
       "5 Big Willie style         Will Smith   USA     Columbia     9.90  1997\n",
       "6 The dock of the bay      Otis Redding USA     Stax Records 7.90  1968"
      ]
     },
     "metadata": {},
     "output_type": "display_data"
    }
   ],
   "source": [
    "### Read data again\n",
    "data <- xmlToDataFrame('data/data_10/root_data/cd_usa.xml')\n",
    "head(data)"
   ]
  },
  {
   "cell_type": "code",
   "execution_count": 8,
   "id": "8544ba2a",
   "metadata": {},
   "outputs": [],
   "source": [
    "#### we read xml from url (should exclude s in https --> http)\n",
    "url <- 'http://www.w3schools.com/xml/cd_catalog.xml'\n",
    "download.file(url,destfile = 'c33.xml')"
   ]
  },
  {
   "cell_type": "code",
   "execution_count": 9,
   "id": "f0aa6365",
   "metadata": {
    "scrolled": true
   },
   "outputs": [
    {
     "data": {
      "text/html": [
       "<table class=\"dataframe\">\n",
       "<caption>A data.frame: 6 × 6</caption>\n",
       "<thead>\n",
       "\t<tr><th></th><th scope=col>TITLE</th><th scope=col>ARTIST</th><th scope=col>COUNTRY</th><th scope=col>COMPANY</th><th scope=col>PRICE</th><th scope=col>YEAR</th></tr>\n",
       "\t<tr><th></th><th scope=col>&lt;chr&gt;</th><th scope=col>&lt;chr&gt;</th><th scope=col>&lt;chr&gt;</th><th scope=col>&lt;chr&gt;</th><th scope=col>&lt;chr&gt;</th><th scope=col>&lt;chr&gt;</th></tr>\n",
       "</thead>\n",
       "<tbody>\n",
       "\t<tr><th scope=row>1</th><td>Empire Burlesque   </td><td>Bob Dylan      </td><td>USA</td><td>Columbia      </td><td>10.90</td><td>1985</td></tr>\n",
       "\t<tr><th scope=row>2</th><td>Hide your heart    </td><td>Bonnie Tyler   </td><td>UK </td><td>CBS Records   </td><td>9.90 </td><td>1988</td></tr>\n",
       "\t<tr><th scope=row>3</th><td>Greatest Hits      </td><td>Dolly Parton   </td><td>USA</td><td>RCA           </td><td>9.90 </td><td>1982</td></tr>\n",
       "\t<tr><th scope=row>4</th><td>Still got the blues</td><td>Gary Moore     </td><td>UK </td><td>Virgin records</td><td>10.20</td><td>1990</td></tr>\n",
       "\t<tr><th scope=row>5</th><td>Eros               </td><td>Eros Ramazzotti</td><td>EU </td><td>BMG           </td><td>9.90 </td><td>1997</td></tr>\n",
       "\t<tr><th scope=row>6</th><td>One night only     </td><td>Bee Gees       </td><td>UK </td><td>Polydor       </td><td>10.90</td><td>1998</td></tr>\n",
       "</tbody>\n",
       "</table>\n"
      ],
      "text/latex": [
       "A data.frame: 6 × 6\n",
       "\\begin{tabular}{r|llllll}\n",
       "  & TITLE & ARTIST & COUNTRY & COMPANY & PRICE & YEAR\\\\\n",
       "  & <chr> & <chr> & <chr> & <chr> & <chr> & <chr>\\\\\n",
       "\\hline\n",
       "\t1 & Empire Burlesque    & Bob Dylan       & USA & Columbia       & 10.90 & 1985\\\\\n",
       "\t2 & Hide your heart     & Bonnie Tyler    & UK  & CBS Records    & 9.90  & 1988\\\\\n",
       "\t3 & Greatest Hits       & Dolly Parton    & USA & RCA            & 9.90  & 1982\\\\\n",
       "\t4 & Still got the blues & Gary Moore      & UK  & Virgin records & 10.20 & 1990\\\\\n",
       "\t5 & Eros                & Eros Ramazzotti & EU  & BMG            & 9.90  & 1997\\\\\n",
       "\t6 & One night only      & Bee Gees        & UK  & Polydor        & 10.90 & 1998\\\\\n",
       "\\end{tabular}\n"
      ],
      "text/markdown": [
       "\n",
       "A data.frame: 6 × 6\n",
       "\n",
       "| <!--/--> | TITLE &lt;chr&gt; | ARTIST &lt;chr&gt; | COUNTRY &lt;chr&gt; | COMPANY &lt;chr&gt; | PRICE &lt;chr&gt; | YEAR &lt;chr&gt; |\n",
       "|---|---|---|---|---|---|---|\n",
       "| 1 | Empire Burlesque    | Bob Dylan       | USA | Columbia       | 10.90 | 1985 |\n",
       "| 2 | Hide your heart     | Bonnie Tyler    | UK  | CBS Records    | 9.90  | 1988 |\n",
       "| 3 | Greatest Hits       | Dolly Parton    | USA | RCA            | 9.90  | 1982 |\n",
       "| 4 | Still got the blues | Gary Moore      | UK  | Virgin records | 10.20 | 1990 |\n",
       "| 5 | Eros                | Eros Ramazzotti | EU  | BMG            | 9.90  | 1997 |\n",
       "| 6 | One night only      | Bee Gees        | UK  | Polydor        | 10.90 | 1998 |\n",
       "\n"
      ],
      "text/plain": [
       "  TITLE               ARTIST          COUNTRY COMPANY        PRICE YEAR\n",
       "1 Empire Burlesque    Bob Dylan       USA     Columbia       10.90 1985\n",
       "2 Hide your heart     Bonnie Tyler    UK      CBS Records    9.90  1988\n",
       "3 Greatest Hits       Dolly Parton    USA     RCA            9.90  1982\n",
       "4 Still got the blues Gary Moore      UK      Virgin records 10.20 1990\n",
       "5 Eros                Eros Ramazzotti EU      BMG            9.90  1997\n",
       "6 One night only      Bee Gees        UK      Polydor        10.90 1998"
      ]
     },
     "metadata": {},
     "output_type": "display_data"
    }
   ],
   "source": [
    "cd <- xmlToDataFrame('c33.xml')\n",
    "head(cd)"
   ]
  },
  {
   "cell_type": "markdown",
   "id": "9eb59afc",
   "metadata": {},
   "source": [
    "### JSON"
   ]
  },
  {
   "cell_type": "code",
   "execution_count": 10,
   "id": "73fc027c",
   "metadata": {},
   "outputs": [],
   "source": [
    "json_text <- fromJSON('data/data_10/root_data/books.json')"
   ]
  },
  {
   "cell_type": "code",
   "execution_count": 11,
   "id": "ce80aef4",
   "metadata": {},
   "outputs": [
    {
     "data": {
      "text/html": [
       "<strong>$Mathematics</strong> = <strong>$book</strong> = <table class=\"dataframe\">\n",
       "<caption>A data.frame: 3 × 6</caption>\n",
       "<thead>\n",
       "\t<tr><th></th><th scope=col>title</th><th scope=col>publisher</th><th scope=col>isbn</th><th scope=col>pages</th><th scope=col>author</th><th scope=col>attribute</th></tr>\n",
       "\t<tr><th></th><th scope=col>&lt;chr&gt;</th><th scope=col>&lt;chr&gt;</th><th scope=col>&lt;chr&gt;</th><th scope=col>&lt;chr&gt;</th><th scope=col>&lt;list&gt;</th><th scope=col>&lt;list&gt;</th></tr>\n",
       "</thead>\n",
       "<tbody>\n",
       "\t<tr><th scope=row>1</th><td>Applied Linear Statistical Models                        </td><td>McGraw Hill</td><td>9780073108742</td><td>1396</td><td>Michael Kutner        , William Li            , Christopher Nachtsheim, John Neter            </td><td>Exercises    , Illustrations, Readability  </td></tr>\n",
       "\t<tr><th scope=row>2</th><td>Mathematical Proofs: A Transition to Advanced Mathematics</td><td>Pearson    </td><td>9780321390530</td><td>365 </td><td>Gary Chartrand , Ping Zhang     , Albert Polimeni</td><td>Exercises  , Readability</td></tr>\n",
       "\t<tr><th scope=row>3</th><td>Mathematical Statistics with Resampling and R            </td><td>Wiley      </td><td>9781118029855</td><td>418 </td><td>Laura Chihara , Tim Hesterberg</td><td>Exercises    , Illustrations, Readability  </td></tr>\n",
       "</tbody>\n",
       "</table>\n"
      ],
      "text/latex": [
       "\\textbf{\\$Mathematics} = \\textbf{\\$book} = A data.frame: 3 × 6\n",
       "\\begin{tabular}{r|llllll}\n",
       "  & title & publisher & isbn & pages & author & attribute\\\\\n",
       "  & <chr> & <chr> & <chr> & <chr> & <list> & <list>\\\\\n",
       "\\hline\n",
       "\t1 & Applied Linear Statistical Models                         & McGraw Hill & 9780073108742 & 1396 & Michael Kutner        , William Li            , Christopher Nachtsheim, John Neter             & Exercises    , Illustrations, Readability  \\\\\n",
       "\t2 & Mathematical Proofs: A Transition to Advanced Mathematics & Pearson     & 9780321390530 & 365  & Gary Chartrand , Ping Zhang     , Albert Polimeni & Exercises  , Readability\\\\\n",
       "\t3 & Mathematical Statistics with Resampling and R             & Wiley       & 9781118029855 & 418  & Laura Chihara , Tim Hesterberg & Exercises    , Illustrations, Readability  \\\\\n",
       "\\end{tabular}\n"
      ],
      "text/markdown": [
       "**$Mathematics** = **$book** = \n",
       "A data.frame: 3 × 6\n",
       "\n",
       "| <!--/--> | title &lt;chr&gt; | publisher &lt;chr&gt; | isbn &lt;chr&gt; | pages &lt;chr&gt; | author &lt;list&gt; | attribute &lt;list&gt; |\n",
       "|---|---|---|---|---|---|---|\n",
       "| 1 | Applied Linear Statistical Models                         | McGraw Hill | 9780073108742 | 1396 | Michael Kutner        , William Li            , Christopher Nachtsheim, John Neter             | Exercises    , Illustrations, Readability   |\n",
       "| 2 | Mathematical Proofs: A Transition to Advanced Mathematics | Pearson     | 9780321390530 | 365  | Gary Chartrand , Ping Zhang     , Albert Polimeni | Exercises  , Readability |\n",
       "| 3 | Mathematical Statistics with Resampling and R             | Wiley       | 9781118029855 | 418  | Laura Chihara , Tim Hesterberg | Exercises    , Illustrations, Readability   |\n",
       "\n"
      ],
      "text/plain": [
       "$Mathematics\n",
       "$Mathematics$book\n",
       "                                                      title   publisher\n",
       "1                         Applied Linear Statistical Models McGraw Hill\n",
       "2 Mathematical Proofs: A Transition to Advanced Mathematics     Pearson\n",
       "3             Mathematical Statistics with Resampling and R       Wiley\n",
       "           isbn pages\n",
       "1 9780073108742  1396\n",
       "2 9780321390530   365\n",
       "3 9781118029855   418\n",
       "                                                          author\n",
       "1 Michael Kutner, William Li, Christopher Nachtsheim, John Neter\n",
       "2                    Gary Chartrand, Ping Zhang, Albert Polimeni\n",
       "3                                  Laura Chihara, Tim Hesterberg\n",
       "                              attribute\n",
       "1 Exercises, Illustrations, Readability\n",
       "2                Exercises, Readability\n",
       "3 Exercises, Illustrations, Readability\n",
       "\n"
      ]
     },
     "metadata": {},
     "output_type": "display_data"
    }
   ],
   "source": [
    "json_text"
   ]
  },
  {
   "cell_type": "code",
   "execution_count": 12,
   "id": "b9bb085b",
   "metadata": {},
   "outputs": [],
   "source": [
    "books <- as.data.frame(json_text$Mathematics$book)"
   ]
  },
  {
   "cell_type": "code",
   "execution_count": 13,
   "id": "d43ef969",
   "metadata": {
    "scrolled": false
   },
   "outputs": [
    {
     "data": {
      "text/html": [
       "<table class=\"dataframe\">\n",
       "<caption>A data.frame: 3 × 6</caption>\n",
       "<thead>\n",
       "\t<tr><th></th><th scope=col>title</th><th scope=col>publisher</th><th scope=col>isbn</th><th scope=col>pages</th><th scope=col>author</th><th scope=col>attribute</th></tr>\n",
       "\t<tr><th></th><th scope=col>&lt;chr&gt;</th><th scope=col>&lt;chr&gt;</th><th scope=col>&lt;chr&gt;</th><th scope=col>&lt;chr&gt;</th><th scope=col>&lt;list&gt;</th><th scope=col>&lt;list&gt;</th></tr>\n",
       "</thead>\n",
       "<tbody>\n",
       "\t<tr><th scope=row>1</th><td>Applied Linear Statistical Models                        </td><td>McGraw Hill</td><td>9780073108742</td><td>1396</td><td>Michael Kutner        , William Li            , Christopher Nachtsheim, John Neter            </td><td>Exercises    , Illustrations, Readability  </td></tr>\n",
       "\t<tr><th scope=row>2</th><td>Mathematical Proofs: A Transition to Advanced Mathematics</td><td>Pearson    </td><td>9780321390530</td><td>365 </td><td>Gary Chartrand , Ping Zhang     , Albert Polimeni</td><td>Exercises  , Readability</td></tr>\n",
       "\t<tr><th scope=row>3</th><td>Mathematical Statistics with Resampling and R            </td><td>Wiley      </td><td>9781118029855</td><td>418 </td><td>Laura Chihara , Tim Hesterberg</td><td>Exercises    , Illustrations, Readability  </td></tr>\n",
       "</tbody>\n",
       "</table>\n"
      ],
      "text/latex": [
       "A data.frame: 3 × 6\n",
       "\\begin{tabular}{r|llllll}\n",
       "  & title & publisher & isbn & pages & author & attribute\\\\\n",
       "  & <chr> & <chr> & <chr> & <chr> & <list> & <list>\\\\\n",
       "\\hline\n",
       "\t1 & Applied Linear Statistical Models                         & McGraw Hill & 9780073108742 & 1396 & Michael Kutner        , William Li            , Christopher Nachtsheim, John Neter             & Exercises    , Illustrations, Readability  \\\\\n",
       "\t2 & Mathematical Proofs: A Transition to Advanced Mathematics & Pearson     & 9780321390530 & 365  & Gary Chartrand , Ping Zhang     , Albert Polimeni & Exercises  , Readability\\\\\n",
       "\t3 & Mathematical Statistics with Resampling and R             & Wiley       & 9781118029855 & 418  & Laura Chihara , Tim Hesterberg & Exercises    , Illustrations, Readability  \\\\\n",
       "\\end{tabular}\n"
      ],
      "text/markdown": [
       "\n",
       "A data.frame: 3 × 6\n",
       "\n",
       "| <!--/--> | title &lt;chr&gt; | publisher &lt;chr&gt; | isbn &lt;chr&gt; | pages &lt;chr&gt; | author &lt;list&gt; | attribute &lt;list&gt; |\n",
       "|---|---|---|---|---|---|---|\n",
       "| 1 | Applied Linear Statistical Models                         | McGraw Hill | 9780073108742 | 1396 | Michael Kutner        , William Li            , Christopher Nachtsheim, John Neter             | Exercises    , Illustrations, Readability   |\n",
       "| 2 | Mathematical Proofs: A Transition to Advanced Mathematics | Pearson     | 9780321390530 | 365  | Gary Chartrand , Ping Zhang     , Albert Polimeni | Exercises  , Readability |\n",
       "| 3 | Mathematical Statistics with Resampling and R             | Wiley       | 9781118029855 | 418  | Laura Chihara , Tim Hesterberg | Exercises    , Illustrations, Readability   |\n",
       "\n"
      ],
      "text/plain": [
       "  title                                                     publisher  \n",
       "1 Applied Linear Statistical Models                         McGraw Hill\n",
       "2 Mathematical Proofs: A Transition to Advanced Mathematics Pearson    \n",
       "3 Mathematical Statistics with Resampling and R             Wiley      \n",
       "  isbn          pages\n",
       "1 9780073108742 1396 \n",
       "2 9780321390530 365  \n",
       "3 9781118029855 418  \n",
       "  author                                                                                        \n",
       "1 Michael Kutner        , William Li            , Christopher Nachtsheim, John Neter            \n",
       "2 Gary Chartrand , Ping Zhang     , Albert Polimeni                                             \n",
       "3 Laura Chihara , Tim Hesterberg                                                                \n",
       "  attribute                                  \n",
       "1 Exercises    , Illustrations, Readability  \n",
       "2 Exercises  , Readability                   \n",
       "3 Exercises    , Illustrations, Readability  "
      ]
     },
     "metadata": {},
     "output_type": "display_data"
    }
   ],
   "source": [
    "books"
   ]
  },
  {
   "cell_type": "code",
   "execution_count": null,
   "id": "f358cce2",
   "metadata": {},
   "outputs": [],
   "source": [
    "### Write to Json\n",
    "json_books <- toJSON(books)\n",
    "write(json_books, file = 'data/data_10')"
   ]
  },
  {
   "cell_type": "markdown",
   "id": "337c95ed",
   "metadata": {},
   "source": [
    "### get JSON from internet"
   ]
  },
  {
   "cell_type": "code",
   "execution_count": null,
   "id": "cf4b3b19",
   "metadata": {},
   "outputs": [],
   "source": [
    "url <- 'http://phuong13021982.pythonanywhere.com/mystore/product_service/'\n",
    "get_url <- GET(url)\n",
    "content <- rawToChar(get_url$content) ### get content only\n",
    "json <- fromJSON(content)\n",
    "tivis <- data.frame(json)\n",
    "print(tivis[c(1,2,3)])"
   ]
  }
 ],
 "metadata": {
  "kernelspec": {
   "display_name": "R",
   "language": "R",
   "name": "ir"
  },
  "language_info": {
   "codemirror_mode": "r",
   "file_extension": ".r",
   "mimetype": "text/x-r-source",
   "name": "R",
   "pygments_lexer": "r",
   "version": "4.2.2"
  }
 },
 "nbformat": 4,
 "nbformat_minor": 5
}
