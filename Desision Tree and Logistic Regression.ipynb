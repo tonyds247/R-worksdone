{
 "cells": [
  {
   "cell_type": "markdown",
   "id": "969fa83b",
   "metadata": {},
   "source": [
    "## Logistic"
   ]
  },
  {
   "cell_type": "code",
   "execution_count": 6,
   "id": "14052437",
   "metadata": {},
   "outputs": [
    {
     "name": "stderr",
     "output_type": "stream",
     "text": [
      "Loading required package: Rcpp\n",
      "\n",
      "## \n",
      "## Amelia II: Multiple Imputation\n",
      "## (Version 1.8.1, built: 2022-11-18)\n",
      "## Copyright (C) 2005-2022 James Honaker, Gary King and Matthew Blackwell\n",
      "## Refer to http://gking.harvard.edu/amelia/ for more information\n",
      "## \n",
      "\n"
     ]
    }
   ],
   "source": [
    "### packages\n",
    "library(ggplot2)\n",
    "library(ggpubr)\n",
    "library(tidyverse)\n",
    "library(broom)\n",
    "library(AICcmodavg)\n",
    "library('caret')\n",
    "library('rpart')\n",
    "library(rpart.plot)\n",
    "library(readr)\n",
    "library('Amelia')"
   ]
  },
  {
   "cell_type": "code",
   "execution_count": 4,
   "id": "3a205861",
   "metadata": {
    "scrolled": true
   },
   "outputs": [
    {
     "data": {
      "text/html": [
       "<table class=\"dataframe\">\n",
       "<caption>A data.frame: 6 × 23</caption>\n",
       "<thead>\n",
       "\t<tr><th></th><th scope=col>Class</th><th scope=col>cap.shape</th><th scope=col>cap.surface</th><th scope=col>cap.color</th><th scope=col>bruises</th><th scope=col>odor</th><th scope=col>gill.attachment</th><th scope=col>gill.spacing</th><th scope=col>gill.size</th><th scope=col>gill.color</th><th scope=col>⋯</th><th scope=col>stalk.surface.below.ring</th><th scope=col>stalk.color.above.ring</th><th scope=col>stalk.color.below.ring</th><th scope=col>veil.type</th><th scope=col>veil.color</th><th scope=col>ring.number</th><th scope=col>ring.type</th><th scope=col>print</th><th scope=col>population</th><th scope=col>habitat</th></tr>\n",
       "\t<tr><th></th><th scope=col>&lt;chr&gt;</th><th scope=col>&lt;chr&gt;</th><th scope=col>&lt;chr&gt;</th><th scope=col>&lt;chr&gt;</th><th scope=col>&lt;chr&gt;</th><th scope=col>&lt;chr&gt;</th><th scope=col>&lt;chr&gt;</th><th scope=col>&lt;chr&gt;</th><th scope=col>&lt;chr&gt;</th><th scope=col>&lt;chr&gt;</th><th scope=col>⋯</th><th scope=col>&lt;chr&gt;</th><th scope=col>&lt;chr&gt;</th><th scope=col>&lt;chr&gt;</th><th scope=col>&lt;chr&gt;</th><th scope=col>&lt;chr&gt;</th><th scope=col>&lt;chr&gt;</th><th scope=col>&lt;chr&gt;</th><th scope=col>&lt;chr&gt;</th><th scope=col>&lt;chr&gt;</th><th scope=col>&lt;chr&gt;</th></tr>\n",
       "</thead>\n",
       "<tbody>\n",
       "\t<tr><th scope=row>1</th><td>Poisonous</td><td>x</td><td>s</td><td>n</td><td>t</td><td>None   </td><td>f</td><td>c</td><td>n</td><td>k</td><td>⋯</td><td>s</td><td>w</td><td>w</td><td>p</td><td>w</td><td>o</td><td>p</td><td>Buff     </td><td>s</td><td>u</td></tr>\n",
       "\t<tr><th scope=row>2</th><td>Edible   </td><td>x</td><td>s</td><td>y</td><td>t</td><td>Almonds</td><td>f</td><td>c</td><td>b</td><td>k</td><td>⋯</td><td>s</td><td>w</td><td>w</td><td>p</td><td>w</td><td>o</td><td>p</td><td>Chocolate</td><td>n</td><td>g</td></tr>\n",
       "\t<tr><th scope=row>3</th><td>Edible   </td><td>b</td><td>s</td><td>w</td><td>t</td><td>Fishy  </td><td>f</td><td>c</td><td>b</td><td>n</td><td>⋯</td><td>s</td><td>w</td><td>w</td><td>p</td><td>w</td><td>o</td><td>p</td><td>Chocolate</td><td>n</td><td>m</td></tr>\n",
       "\t<tr><th scope=row>4</th><td>Poisonous</td><td>x</td><td>y</td><td>w</td><td>t</td><td>None   </td><td>f</td><td>c</td><td>n</td><td>n</td><td>⋯</td><td>s</td><td>w</td><td>w</td><td>p</td><td>w</td><td>o</td><td>p</td><td>Buff     </td><td>s</td><td>u</td></tr>\n",
       "\t<tr><th scope=row>5</th><td>Edible   </td><td>x</td><td>s</td><td>g</td><td>f</td><td>Musty  </td><td>f</td><td>w</td><td>b</td><td>k</td><td>⋯</td><td>s</td><td>w</td><td>w</td><td>p</td><td>w</td><td>o</td><td>e</td><td>Chocolate</td><td>a</td><td>g</td></tr>\n",
       "\t<tr><th scope=row>6</th><td>Edible   </td><td>x</td><td>y</td><td>y</td><td>t</td><td>Almonds</td><td>f</td><td>c</td><td>b</td><td>n</td><td>⋯</td><td>s</td><td>w</td><td>w</td><td>p</td><td>w</td><td>o</td><td>p</td><td>Buff     </td><td>n</td><td>g</td></tr>\n",
       "</tbody>\n",
       "</table>\n"
      ],
      "text/latex": [
       "A data.frame: 6 × 23\n",
       "\\begin{tabular}{r|lllllllllllllllllllll}\n",
       "  & Class & cap.shape & cap.surface & cap.color & bruises & odor & gill.attachment & gill.spacing & gill.size & gill.color & ⋯ & stalk.surface.below.ring & stalk.color.above.ring & stalk.color.below.ring & veil.type & veil.color & ring.number & ring.type & print & population & habitat\\\\\n",
       "  & <chr> & <chr> & <chr> & <chr> & <chr> & <chr> & <chr> & <chr> & <chr> & <chr> & ⋯ & <chr> & <chr> & <chr> & <chr> & <chr> & <chr> & <chr> & <chr> & <chr> & <chr>\\\\\n",
       "\\hline\n",
       "\t1 & Poisonous & x & s & n & t & None    & f & c & n & k & ⋯ & s & w & w & p & w & o & p & Buff      & s & u\\\\\n",
       "\t2 & Edible    & x & s & y & t & Almonds & f & c & b & k & ⋯ & s & w & w & p & w & o & p & Chocolate & n & g\\\\\n",
       "\t3 & Edible    & b & s & w & t & Fishy   & f & c & b & n & ⋯ & s & w & w & p & w & o & p & Chocolate & n & m\\\\\n",
       "\t4 & Poisonous & x & y & w & t & None    & f & c & n & n & ⋯ & s & w & w & p & w & o & p & Buff      & s & u\\\\\n",
       "\t5 & Edible    & x & s & g & f & Musty   & f & w & b & k & ⋯ & s & w & w & p & w & o & e & Chocolate & a & g\\\\\n",
       "\t6 & Edible    & x & y & y & t & Almonds & f & c & b & n & ⋯ & s & w & w & p & w & o & p & Buff      & n & g\\\\\n",
       "\\end{tabular}\n"
      ],
      "text/markdown": [
       "\n",
       "A data.frame: 6 × 23\n",
       "\n",
       "| <!--/--> | Class &lt;chr&gt; | cap.shape &lt;chr&gt; | cap.surface &lt;chr&gt; | cap.color &lt;chr&gt; | bruises &lt;chr&gt; | odor &lt;chr&gt; | gill.attachment &lt;chr&gt; | gill.spacing &lt;chr&gt; | gill.size &lt;chr&gt; | gill.color &lt;chr&gt; | ⋯ ⋯ | stalk.surface.below.ring &lt;chr&gt; | stalk.color.above.ring &lt;chr&gt; | stalk.color.below.ring &lt;chr&gt; | veil.type &lt;chr&gt; | veil.color &lt;chr&gt; | ring.number &lt;chr&gt; | ring.type &lt;chr&gt; | print &lt;chr&gt; | population &lt;chr&gt; | habitat &lt;chr&gt; |\n",
       "|---|---|---|---|---|---|---|---|---|---|---|---|---|---|---|---|---|---|---|---|---|---|\n",
       "| 1 | Poisonous | x | s | n | t | None    | f | c | n | k | ⋯ | s | w | w | p | w | o | p | Buff      | s | u |\n",
       "| 2 | Edible    | x | s | y | t | Almonds | f | c | b | k | ⋯ | s | w | w | p | w | o | p | Chocolate | n | g |\n",
       "| 3 | Edible    | b | s | w | t | Fishy   | f | c | b | n | ⋯ | s | w | w | p | w | o | p | Chocolate | n | m |\n",
       "| 4 | Poisonous | x | y | w | t | None    | f | c | n | n | ⋯ | s | w | w | p | w | o | p | Buff      | s | u |\n",
       "| 5 | Edible    | x | s | g | f | Musty   | f | w | b | k | ⋯ | s | w | w | p | w | o | e | Chocolate | a | g |\n",
       "| 6 | Edible    | x | y | y | t | Almonds | f | c | b | n | ⋯ | s | w | w | p | w | o | p | Buff      | n | g |\n",
       "\n"
      ],
      "text/plain": [
       "  Class     cap.shape cap.surface cap.color bruises odor    gill.attachment\n",
       "1 Poisonous x         s           n         t       None    f              \n",
       "2 Edible    x         s           y         t       Almonds f              \n",
       "3 Edible    b         s           w         t       Fishy   f              \n",
       "4 Poisonous x         y           w         t       None    f              \n",
       "5 Edible    x         s           g         f       Musty   f              \n",
       "6 Edible    x         y           y         t       Almonds f              \n",
       "  gill.spacing gill.size gill.color ⋯ stalk.surface.below.ring\n",
       "1 c            n         k          ⋯ s                       \n",
       "2 c            b         k          ⋯ s                       \n",
       "3 c            b         n          ⋯ s                       \n",
       "4 c            n         n          ⋯ s                       \n",
       "5 w            b         k          ⋯ s                       \n",
       "6 c            b         n          ⋯ s                       \n",
       "  stalk.color.above.ring stalk.color.below.ring veil.type veil.color\n",
       "1 w                      w                      p         w         \n",
       "2 w                      w                      p         w         \n",
       "3 w                      w                      p         w         \n",
       "4 w                      w                      p         w         \n",
       "5 w                      w                      p         w         \n",
       "6 w                      w                      p         w         \n",
       "  ring.number ring.type print     population habitat\n",
       "1 o           p         Buff      s          u      \n",
       "2 o           p         Chocolate n          g      \n",
       "3 o           p         Chocolate n          m      \n",
       "4 o           p         Buff      s          u      \n",
       "5 o           e         Chocolate a          g      \n",
       "6 o           p         Buff      n          g      "
      ]
     },
     "metadata": {},
     "output_type": "display_data"
    }
   ],
   "source": [
    "### Read data\n",
    "df = read.csv('data/mushroom.csv', row.names = 'X')\n",
    "head(df)"
   ]
  },
  {
   "cell_type": "code",
   "execution_count": 5,
   "id": "82ee302d",
   "metadata": {
    "scrolled": true
   },
   "outputs": [
    {
     "data": {
      "text/html": [
       "<table class=\"dataframe\">\n",
       "<caption>A data.frame: 6 × 23</caption>\n",
       "<thead>\n",
       "\t<tr><th></th><th scope=col>Class</th><th scope=col>cap.shape</th><th scope=col>cap.surface</th><th scope=col>cap.color</th><th scope=col>bruises</th><th scope=col>odor</th><th scope=col>gill.attachment</th><th scope=col>gill.spacing</th><th scope=col>gill.size</th><th scope=col>gill.color</th><th scope=col>⋯</th><th scope=col>stalk.surface.below.ring</th><th scope=col>stalk.color.above.ring</th><th scope=col>stalk.color.below.ring</th><th scope=col>veil.type</th><th scope=col>veil.color</th><th scope=col>ring.number</th><th scope=col>ring.type</th><th scope=col>print</th><th scope=col>population</th><th scope=col>habitat</th></tr>\n",
       "\t<tr><th></th><th scope=col>&lt;chr&gt;</th><th scope=col>&lt;chr&gt;</th><th scope=col>&lt;chr&gt;</th><th scope=col>&lt;chr&gt;</th><th scope=col>&lt;chr&gt;</th><th scope=col>&lt;chr&gt;</th><th scope=col>&lt;chr&gt;</th><th scope=col>&lt;chr&gt;</th><th scope=col>&lt;chr&gt;</th><th scope=col>&lt;chr&gt;</th><th scope=col>⋯</th><th scope=col>&lt;chr&gt;</th><th scope=col>&lt;chr&gt;</th><th scope=col>&lt;chr&gt;</th><th scope=col>&lt;chr&gt;</th><th scope=col>&lt;chr&gt;</th><th scope=col>&lt;chr&gt;</th><th scope=col>&lt;chr&gt;</th><th scope=col>&lt;chr&gt;</th><th scope=col>&lt;chr&gt;</th><th scope=col>&lt;chr&gt;</th></tr>\n",
       "</thead>\n",
       "<tbody>\n",
       "\t<tr><th scope=row>8119</th><td>Poisonous</td><td>k</td><td>y</td><td>n</td><td>f</td><td>Creosote</td><td>f</td><td>c</td><td>n</td><td>b</td><td>⋯</td><td>s</td><td>p</td><td>w</td><td>p</td><td>w</td><td>o</td><td>e</td><td>White</td><td>v</td><td>d</td></tr>\n",
       "\t<tr><th scope=row>8120</th><td>Edible   </td><td>k</td><td>s</td><td>n</td><td>f</td><td>Musty   </td><td>a</td><td>c</td><td>b</td><td>y</td><td>⋯</td><td>s</td><td>o</td><td>o</td><td>p</td><td>o</td><td>o</td><td>p</td><td>Black</td><td>c</td><td>l</td></tr>\n",
       "\t<tr><th scope=row>8121</th><td>Edible   </td><td>x</td><td>s</td><td>n</td><td>f</td><td>Musty   </td><td>a</td><td>c</td><td>b</td><td>y</td><td>⋯</td><td>s</td><td>o</td><td>o</td><td>p</td><td>n</td><td>o</td><td>p</td><td>Black</td><td>v</td><td>l</td></tr>\n",
       "\t<tr><th scope=row>8122</th><td>Edible   </td><td>f</td><td>s</td><td>n</td><td>f</td><td>Musty   </td><td>a</td><td>c</td><td>b</td><td>n</td><td>⋯</td><td>s</td><td>o</td><td>o</td><td>p</td><td>o</td><td>o</td><td>p</td><td>Black</td><td>c</td><td>l</td></tr>\n",
       "\t<tr><th scope=row>8123</th><td>Poisonous</td><td>k</td><td>y</td><td>n</td><td>f</td><td>Spicy   </td><td>f</td><td>c</td><td>n</td><td>b</td><td>⋯</td><td>k</td><td>w</td><td>w</td><td>p</td><td>w</td><td>o</td><td>e</td><td>White</td><td>v</td><td>l</td></tr>\n",
       "\t<tr><th scope=row>8124</th><td>Edible   </td><td>x</td><td>s</td><td>n</td><td>f</td><td>Musty   </td><td>a</td><td>c</td><td>b</td><td>y</td><td>⋯</td><td>s</td><td>o</td><td>o</td><td>p</td><td>o</td><td>o</td><td>p</td><td>Green</td><td>c</td><td>l</td></tr>\n",
       "</tbody>\n",
       "</table>\n"
      ],
      "text/latex": [
       "A data.frame: 6 × 23\n",
       "\\begin{tabular}{r|lllllllllllllllllllll}\n",
       "  & Class & cap.shape & cap.surface & cap.color & bruises & odor & gill.attachment & gill.spacing & gill.size & gill.color & ⋯ & stalk.surface.below.ring & stalk.color.above.ring & stalk.color.below.ring & veil.type & veil.color & ring.number & ring.type & print & population & habitat\\\\\n",
       "  & <chr> & <chr> & <chr> & <chr> & <chr> & <chr> & <chr> & <chr> & <chr> & <chr> & ⋯ & <chr> & <chr> & <chr> & <chr> & <chr> & <chr> & <chr> & <chr> & <chr> & <chr>\\\\\n",
       "\\hline\n",
       "\t8119 & Poisonous & k & y & n & f & Creosote & f & c & n & b & ⋯ & s & p & w & p & w & o & e & White & v & d\\\\\n",
       "\t8120 & Edible    & k & s & n & f & Musty    & a & c & b & y & ⋯ & s & o & o & p & o & o & p & Black & c & l\\\\\n",
       "\t8121 & Edible    & x & s & n & f & Musty    & a & c & b & y & ⋯ & s & o & o & p & n & o & p & Black & v & l\\\\\n",
       "\t8122 & Edible    & f & s & n & f & Musty    & a & c & b & n & ⋯ & s & o & o & p & o & o & p & Black & c & l\\\\\n",
       "\t8123 & Poisonous & k & y & n & f & Spicy    & f & c & n & b & ⋯ & k & w & w & p & w & o & e & White & v & l\\\\\n",
       "\t8124 & Edible    & x & s & n & f & Musty    & a & c & b & y & ⋯ & s & o & o & p & o & o & p & Green & c & l\\\\\n",
       "\\end{tabular}\n"
      ],
      "text/markdown": [
       "\n",
       "A data.frame: 6 × 23\n",
       "\n",
       "| <!--/--> | Class &lt;chr&gt; | cap.shape &lt;chr&gt; | cap.surface &lt;chr&gt; | cap.color &lt;chr&gt; | bruises &lt;chr&gt; | odor &lt;chr&gt; | gill.attachment &lt;chr&gt; | gill.spacing &lt;chr&gt; | gill.size &lt;chr&gt; | gill.color &lt;chr&gt; | ⋯ ⋯ | stalk.surface.below.ring &lt;chr&gt; | stalk.color.above.ring &lt;chr&gt; | stalk.color.below.ring &lt;chr&gt; | veil.type &lt;chr&gt; | veil.color &lt;chr&gt; | ring.number &lt;chr&gt; | ring.type &lt;chr&gt; | print &lt;chr&gt; | population &lt;chr&gt; | habitat &lt;chr&gt; |\n",
       "|---|---|---|---|---|---|---|---|---|---|---|---|---|---|---|---|---|---|---|---|---|---|\n",
       "| 8119 | Poisonous | k | y | n | f | Creosote | f | c | n | b | ⋯ | s | p | w | p | w | o | e | White | v | d |\n",
       "| 8120 | Edible    | k | s | n | f | Musty    | a | c | b | y | ⋯ | s | o | o | p | o | o | p | Black | c | l |\n",
       "| 8121 | Edible    | x | s | n | f | Musty    | a | c | b | y | ⋯ | s | o | o | p | n | o | p | Black | v | l |\n",
       "| 8122 | Edible    | f | s | n | f | Musty    | a | c | b | n | ⋯ | s | o | o | p | o | o | p | Black | c | l |\n",
       "| 8123 | Poisonous | k | y | n | f | Spicy    | f | c | n | b | ⋯ | k | w | w | p | w | o | e | White | v | l |\n",
       "| 8124 | Edible    | x | s | n | f | Musty    | a | c | b | y | ⋯ | s | o | o | p | o | o | p | Green | c | l |\n",
       "\n"
      ],
      "text/plain": [
       "     Class     cap.shape cap.surface cap.color bruises odor     gill.attachment\n",
       "8119 Poisonous k         y           n         f       Creosote f              \n",
       "8120 Edible    k         s           n         f       Musty    a              \n",
       "8121 Edible    x         s           n         f       Musty    a              \n",
       "8122 Edible    f         s           n         f       Musty    a              \n",
       "8123 Poisonous k         y           n         f       Spicy    f              \n",
       "8124 Edible    x         s           n         f       Musty    a              \n",
       "     gill.spacing gill.size gill.color ⋯ stalk.surface.below.ring\n",
       "8119 c            n         b          ⋯ s                       \n",
       "8120 c            b         y          ⋯ s                       \n",
       "8121 c            b         y          ⋯ s                       \n",
       "8122 c            b         n          ⋯ s                       \n",
       "8123 c            n         b          ⋯ k                       \n",
       "8124 c            b         y          ⋯ s                       \n",
       "     stalk.color.above.ring stalk.color.below.ring veil.type veil.color\n",
       "8119 p                      w                      p         w         \n",
       "8120 o                      o                      p         o         \n",
       "8121 o                      o                      p         n         \n",
       "8122 o                      o                      p         o         \n",
       "8123 w                      w                      p         w         \n",
       "8124 o                      o                      p         o         \n",
       "     ring.number ring.type print population habitat\n",
       "8119 o           e         White v          d      \n",
       "8120 o           p         Black c          l      \n",
       "8121 o           p         Black v          l      \n",
       "8122 o           p         Black c          l      \n",
       "8123 o           e         White v          l      \n",
       "8124 o           p         Green c          l      "
      ]
     },
     "metadata": {},
     "output_type": "display_data"
    },
    {
     "name": "stdout",
     "output_type": "stream",
     "text": [
      "    Class            cap.shape         cap.surface         cap.color        \n",
      " Length:8124        Length:8124        Length:8124        Length:8124       \n",
      " Class :character   Class :character   Class :character   Class :character  \n",
      " Mode  :character   Mode  :character   Mode  :character   Mode  :character  \n",
      "   bruises              odor           gill.attachment    gill.spacing      \n",
      " Length:8124        Length:8124        Length:8124        Length:8124       \n",
      " Class :character   Class :character   Class :character   Class :character  \n",
      " Mode  :character   Mode  :character   Mode  :character   Mode  :character  \n",
      "  gill.size          gill.color        stalk.shape         stalk.root       \n",
      " Length:8124        Length:8124        Length:8124        Length:8124       \n",
      " Class :character   Class :character   Class :character   Class :character  \n",
      " Mode  :character   Mode  :character   Mode  :character   Mode  :character  \n",
      " stalk.surface.above.ring stalk.surface.below.ring stalk.color.above.ring\n",
      " Length:8124              Length:8124              Length:8124           \n",
      " Class :character         Class :character         Class :character      \n",
      " Mode  :character         Mode  :character         Mode  :character      \n",
      " stalk.color.below.ring  veil.type          veil.color       \n",
      " Length:8124            Length:8124        Length:8124       \n",
      " Class :character       Class :character   Class :character  \n",
      " Mode  :character       Mode  :character   Mode  :character  \n",
      " ring.number         ring.type            print            population       \n",
      " Length:8124        Length:8124        Length:8124        Length:8124       \n",
      " Class :character   Class :character   Class :character   Class :character  \n",
      " Mode  :character   Mode  :character   Mode  :character   Mode  :character  \n",
      "   habitat         \n",
      " Length:8124       \n",
      " Class :character  \n",
      " Mode  :character  \n"
     ]
    }
   ],
   "source": [
    "tail(df)\n",
    "print(summary(df))"
   ]
  },
  {
   "cell_type": "code",
   "execution_count": 5,
   "id": "d57f5a0e",
   "metadata": {},
   "outputs": [
    {
     "data": {
      "text/html": [
       "<table class=\"dataframe\">\n",
       "<caption>A data.frame: 23 × 2</caption>\n",
       "<thead>\n",
       "\t<tr><th scope=col>Colname</th><th scope=col>Length.of.Unique.value</th></tr>\n",
       "\t<tr><th scope=col>&lt;chr&gt;</th><th scope=col>&lt;chr&gt;</th></tr>\n",
       "</thead>\n",
       "<tbody>\n",
       "\t<tr><td>Class                   </td><td>2 </td></tr>\n",
       "\t<tr><td>cap.shape               </td><td>6 </td></tr>\n",
       "\t<tr><td>cap.surface             </td><td>4 </td></tr>\n",
       "\t<tr><td>cap.color               </td><td>10</td></tr>\n",
       "\t<tr><td>bruises                 </td><td>2 </td></tr>\n",
       "\t<tr><td>odor                    </td><td>9 </td></tr>\n",
       "\t<tr><td>gill.attachment         </td><td>2 </td></tr>\n",
       "\t<tr><td>gill.spacing            </td><td>2 </td></tr>\n",
       "\t<tr><td>gill.size               </td><td>2 </td></tr>\n",
       "\t<tr><td>gill.color              </td><td>12</td></tr>\n",
       "\t<tr><td>stalk.shape             </td><td>2 </td></tr>\n",
       "\t<tr><td>stalk.root              </td><td>5 </td></tr>\n",
       "\t<tr><td>stalk.surface.above.ring</td><td>4 </td></tr>\n",
       "\t<tr><td>stalk.surface.below.ring</td><td>4 </td></tr>\n",
       "\t<tr><td>stalk.color.above.ring  </td><td>9 </td></tr>\n",
       "\t<tr><td>stalk.color.below.ring  </td><td>9 </td></tr>\n",
       "\t<tr><td>veil.type               </td><td>1 </td></tr>\n",
       "\t<tr><td>veil.color              </td><td>4 </td></tr>\n",
       "\t<tr><td>ring.number             </td><td>3 </td></tr>\n",
       "\t<tr><td>ring.type               </td><td>5 </td></tr>\n",
       "\t<tr><td>print                   </td><td>9 </td></tr>\n",
       "\t<tr><td>population              </td><td>6 </td></tr>\n",
       "\t<tr><td>habitat                 </td><td>7 </td></tr>\n",
       "</tbody>\n",
       "</table>\n"
      ],
      "text/latex": [
       "A data.frame: 23 × 2\n",
       "\\begin{tabular}{ll}\n",
       " Colname & Length.of.Unique.value\\\\\n",
       " <chr> & <chr>\\\\\n",
       "\\hline\n",
       "\t Class                    & 2 \\\\\n",
       "\t cap.shape                & 6 \\\\\n",
       "\t cap.surface              & 4 \\\\\n",
       "\t cap.color                & 10\\\\\n",
       "\t bruises                  & 2 \\\\\n",
       "\t odor                     & 9 \\\\\n",
       "\t gill.attachment          & 2 \\\\\n",
       "\t gill.spacing             & 2 \\\\\n",
       "\t gill.size                & 2 \\\\\n",
       "\t gill.color               & 12\\\\\n",
       "\t stalk.shape              & 2 \\\\\n",
       "\t stalk.root               & 5 \\\\\n",
       "\t stalk.surface.above.ring & 4 \\\\\n",
       "\t stalk.surface.below.ring & 4 \\\\\n",
       "\t stalk.color.above.ring   & 9 \\\\\n",
       "\t stalk.color.below.ring   & 9 \\\\\n",
       "\t veil.type                & 1 \\\\\n",
       "\t veil.color               & 4 \\\\\n",
       "\t ring.number              & 3 \\\\\n",
       "\t ring.type                & 5 \\\\\n",
       "\t print                    & 9 \\\\\n",
       "\t population               & 6 \\\\\n",
       "\t habitat                  & 7 \\\\\n",
       "\\end{tabular}\n"
      ],
      "text/markdown": [
       "\n",
       "A data.frame: 23 × 2\n",
       "\n",
       "| Colname &lt;chr&gt; | Length.of.Unique.value &lt;chr&gt; |\n",
       "|---|---|\n",
       "| Class                    | 2  |\n",
       "| cap.shape                | 6  |\n",
       "| cap.surface              | 4  |\n",
       "| cap.color                | 10 |\n",
       "| bruises                  | 2  |\n",
       "| odor                     | 9  |\n",
       "| gill.attachment          | 2  |\n",
       "| gill.spacing             | 2  |\n",
       "| gill.size                | 2  |\n",
       "| gill.color               | 12 |\n",
       "| stalk.shape              | 2  |\n",
       "| stalk.root               | 5  |\n",
       "| stalk.surface.above.ring | 4  |\n",
       "| stalk.surface.below.ring | 4  |\n",
       "| stalk.color.above.ring   | 9  |\n",
       "| stalk.color.below.ring   | 9  |\n",
       "| veil.type                | 1  |\n",
       "| veil.color               | 4  |\n",
       "| ring.number              | 3  |\n",
       "| ring.type                | 5  |\n",
       "| print                    | 9  |\n",
       "| population               | 6  |\n",
       "| habitat                  | 7  |\n",
       "\n"
      ],
      "text/plain": [
       "   Colname                  Length.of.Unique.value\n",
       "1  Class                    2                     \n",
       "2  cap.shape                6                     \n",
       "3  cap.surface              4                     \n",
       "4  cap.color                10                    \n",
       "5  bruises                  2                     \n",
       "6  odor                     9                     \n",
       "7  gill.attachment          2                     \n",
       "8  gill.spacing             2                     \n",
       "9  gill.size                2                     \n",
       "10 gill.color               12                    \n",
       "11 stalk.shape              2                     \n",
       "12 stalk.root               5                     \n",
       "13 stalk.surface.above.ring 4                     \n",
       "14 stalk.surface.below.ring 4                     \n",
       "15 stalk.color.above.ring   9                     \n",
       "16 stalk.color.below.ring   9                     \n",
       "17 veil.type                1                     \n",
       "18 veil.color               4                     \n",
       "19 ring.number              3                     \n",
       "20 ring.type                5                     \n",
       "21 print                    9                     \n",
       "22 population               6                     \n",
       "23 habitat                  7                     "
      ]
     },
     "metadata": {},
     "output_type": "display_data"
    }
   ],
   "source": [
    "### We check and exlcude features with single class\n",
    "df_miss = matrix(ncol= 2, nrow = 0)\n",
    "colnames(df_miss) = c('Colname', 'Length of Unique value')\n",
    "for (i in colnames(df)){\n",
    "    len = length(unique(df[,i]))\n",
    "    df_miss = rbind(df_miss, c(i,len))\n",
    "}\n",
    "df1 = data.frame(df_miss)\n",
    "df1"
   ]
  },
  {
   "cell_type": "code",
   "execution_count": 8,
   "id": "1bad1577",
   "metadata": {},
   "outputs": [
    {
     "data": {
      "text/html": [
       "<style>\n",
       ".list-inline {list-style: none; margin:0; padding: 0}\n",
       ".list-inline>li {display: inline-block}\n",
       ".list-inline>li:not(:last-child)::after {content: \"\\00b7\"; padding: 0 .5ex}\n",
       "</style>\n",
       "<ol class=list-inline><li>'Class'</li><li>'cap.shape'</li><li>'cap.surface'</li><li>'cap.color'</li><li>'bruises'</li><li>'odor'</li><li>'gill.attachment'</li><li>'gill.spacing'</li><li>'gill.size'</li><li>'gill.color'</li><li>'stalk.shape'</li><li>'stalk.root'</li><li>'stalk.surface.above.ring'</li><li>'stalk.surface.below.ring'</li><li>'stalk.color.above.ring'</li><li>'stalk.color.below.ring'</li><li>'veil.color'</li><li>'ring.number'</li><li>'ring.type'</li><li>'print'</li><li>'population'</li><li>'habitat'</li></ol>\n"
      ],
      "text/latex": [
       "\\begin{enumerate*}\n",
       "\\item 'Class'\n",
       "\\item 'cap.shape'\n",
       "\\item 'cap.surface'\n",
       "\\item 'cap.color'\n",
       "\\item 'bruises'\n",
       "\\item 'odor'\n",
       "\\item 'gill.attachment'\n",
       "\\item 'gill.spacing'\n",
       "\\item 'gill.size'\n",
       "\\item 'gill.color'\n",
       "\\item 'stalk.shape'\n",
       "\\item 'stalk.root'\n",
       "\\item 'stalk.surface.above.ring'\n",
       "\\item 'stalk.surface.below.ring'\n",
       "\\item 'stalk.color.above.ring'\n",
       "\\item 'stalk.color.below.ring'\n",
       "\\item 'veil.color'\n",
       "\\item 'ring.number'\n",
       "\\item 'ring.type'\n",
       "\\item 'print'\n",
       "\\item 'population'\n",
       "\\item 'habitat'\n",
       "\\end{enumerate*}\n"
      ],
      "text/markdown": [
       "1. 'Class'\n",
       "2. 'cap.shape'\n",
       "3. 'cap.surface'\n",
       "4. 'cap.color'\n",
       "5. 'bruises'\n",
       "6. 'odor'\n",
       "7. 'gill.attachment'\n",
       "8. 'gill.spacing'\n",
       "9. 'gill.size'\n",
       "10. 'gill.color'\n",
       "11. 'stalk.shape'\n",
       "12. 'stalk.root'\n",
       "13. 'stalk.surface.above.ring'\n",
       "14. 'stalk.surface.below.ring'\n",
       "15. 'stalk.color.above.ring'\n",
       "16. 'stalk.color.below.ring'\n",
       "17. 'veil.color'\n",
       "18. 'ring.number'\n",
       "19. 'ring.type'\n",
       "20. 'print'\n",
       "21. 'population'\n",
       "22. 'habitat'\n",
       "\n",
       "\n"
      ],
      "text/plain": [
       " [1] \"Class\"                    \"cap.shape\"               \n",
       " [3] \"cap.surface\"              \"cap.color\"               \n",
       " [5] \"bruises\"                  \"odor\"                    \n",
       " [7] \"gill.attachment\"          \"gill.spacing\"            \n",
       " [9] \"gill.size\"                \"gill.color\"              \n",
       "[11] \"stalk.shape\"              \"stalk.root\"              \n",
       "[13] \"stalk.surface.above.ring\" \"stalk.surface.below.ring\"\n",
       "[15] \"stalk.color.above.ring\"   \"stalk.color.below.ring\"  \n",
       "[17] \"veil.color\"               \"ring.number\"             \n",
       "[19] \"ring.type\"                \"print\"                   \n",
       "[21] \"population\"               \"habitat\"                 "
      ]
     },
     "metadata": {},
     "output_type": "display_data"
    }
   ],
   "source": [
    "# Removing variable with single value\n",
    "df$veil.type = NULL\n",
    "names(df)"
   ]
  },
  {
   "cell_type": "code",
   "execution_count": 7,
   "id": "6ea8f81a",
   "metadata": {
    "scrolled": true
   },
   "outputs": [
    {
     "data": {
      "image/png": "[encoded data removed]",
      "text/plain": [
       "Plot with title “mising value”"
      ]
     },
     "metadata": {
      "image/png": {
       "height": 420,
       "width": 420
      }
     },
     "output_type": "display_data"
    }
   ],
   "source": [
    "### Visualize missing value\n",
    "missmap(df, main = 'mising value')"
   ]
  },
  {
   "cell_type": "code",
   "execution_count": 9,
   "id": "8e7bf9d6",
   "metadata": {
    "scrolled": true
   },
   "outputs": [
    {
     "name": "stdout",
     "output_type": "stream",
     "text": [
      "\n",
      "   Edible Poisonous \n",
      "     4208      3916 \n"
     ]
    }
   ],
   "source": [
    "### sample of each class\n",
    "print(table(df$Class))"
   ]
  },
  {
   "cell_type": "code",
   "execution_count": 10,
   "id": "d99398dd",
   "metadata": {},
   "outputs": [],
   "source": [
    "### convert y value: 1 normal, low: 0\n",
    "df$Class <- ifelse(df$Class=='Edible',0,1)"
   ]
  },
  {
   "cell_type": "code",
   "execution_count": 11,
   "id": "97e3db90",
   "metadata": {},
   "outputs": [
    {
     "name": "stdout",
     "output_type": "stream",
     "text": [
      "\n",
      "   0    1 \n",
      "4208 3916 \n"
     ]
    }
   ],
   "source": [
    "print(table(df$Class))"
   ]
  },
  {
   "cell_type": "code",
   "execution_count": 12,
   "id": "3060c1a8",
   "metadata": {
    "scrolled": true
   },
   "outputs": [
    {
     "name": "stdout",
     "output_type": "stream",
     "text": [
      "[1] 6499\n",
      "[1] 1625\n"
     ]
    }
   ],
   "source": [
    "## divide the dataset into Train and Test set \n",
    "set.seed(42)\n",
    "trainingrowindex = sample(1:nrow(df), size = round(0.8*nrow(df)), replace=FALSE)\n",
    "#print('selected training row indexes: ')\n",
    "#print(trainingrowindex)\n",
    "traindata = df[trainingrowindex,]\n",
    "testdata = df[-trainingrowindex,]\n",
    "print(nrow(traindata))\n",
    "print(nrow(testdata))"
   ]
  },
  {
   "cell_type": "markdown",
   "id": "f83327c8",
   "metadata": {},
   "source": [
    "### Logistic regression"
   ]
  },
  {
   "cell_type": "code",
   "execution_count": 14,
   "id": "f99ecf80",
   "metadata": {
    "scrolled": true
   },
   "outputs": [
    {
     "name": "stderr",
     "output_type": "stream",
     "text": [
      "Warning message:\n",
      "“glm.fit: algorithm did not converge”\n"
     ]
    },
    {
     "name": "stdout",
     "output_type": "stream",
     "text": [
      "\n",
      "Call:\n",
      "glm(formula = Class ~ ., family = \"binomial\", data = traindata)\n",
      "\n",
      "Deviance Residuals: \n",
      "       Min          1Q      Median          3Q         Max  \n",
      "-2.409e-06  -2.409e-06  -2.409e-06   2.409e-06   2.409e-06  \n",
      "\n",
      "Coefficients: (10 not defined because of singularities)\n",
      "                            Estimate Std. Error z value Pr(>|z|)\n",
      "(Intercept)               -2.657e+01  3.491e+05       0        1\n",
      "cap.shapec                 2.085e-06  2.175e+05       0        1\n",
      "cap.shapef                 6.310e-09  2.632e+04       0        1\n",
      "cap.shapek                -2.090e-08  2.859e+04       0        1\n",
      "cap.shapes                 5.404e-09  9.292e+04       0        1\n",
      "cap.shapex                 5.428e-09  2.526e+04       0        1\n",
      "cap.surfaceg              -2.405e-07  2.521e+05       0        1\n",
      "cap.surfaces              -5.902e-10  1.500e+04       0        1\n",
      "cap.surfacey               1.259e-11  1.264e+04       0        1\n",
      "cap.colorc                -1.294e-09  8.735e+04       0        1\n",
      "cap.colore                 1.859e-09  4.028e+04       0        1\n",
      "cap.colorg                 1.361e-09  3.853e+04       0        1\n",
      "cap.colorn                 1.990e-09  3.938e+04       0        1\n",
      "cap.colorp                -8.198e-09  4.972e+04       0        1\n",
      "cap.colorr                 4.224e-09  1.380e+05       0        1\n",
      "cap.coloru                 3.981e-09  1.426e+05       0        1\n",
      "cap.colorw                 4.320e-09  3.886e+04       0        1\n",
      "cap.colory                 7.356e-09  4.136e+04       0        1\n",
      "bruisest                   2.657e+01  1.260e+05       0        1\n",
      "odorAnise                  2.657e+01  1.536e+05       0        1\n",
      "odorCreosote              -2.657e+01  3.774e+05       0        1\n",
      "odorFishy                  1.559e-10  2.823e+04       0        1\n",
      "odorFoul                   1.328e+02  5.837e+05       0        1\n",
      "odorMusty                 -7.970e+01  3.615e+05       0        1\n",
      "odorNone                  -5.313e+01  4.458e+05       0        1\n",
      "odorPungent               -2.657e+01  3.781e+05       0        1\n",
      "odorSpicy                 -2.657e+01  3.781e+05       0        1\n",
      "gill.attachmentf           3.104e-07  1.455e+05       0        1\n",
      "gill.spacingw              5.464e-06  5.646e+04       0        1\n",
      "gill.sizen                -7.970e+01  3.362e+05       0        1\n",
      "gill.colore               -2.657e+01  2.334e+05       0        1\n",
      "gill.colorg               -2.657e+01  2.318e+05       0        1\n",
      "gill.colorh               -2.657e+01  2.314e+05       0        1\n",
      "gill.colork               -2.657e+01  2.321e+05       0        1\n",
      "gill.colorn               -2.657e+01  2.316e+05       0        1\n",
      "gill.coloro               -2.657e+01  2.407e+05       0        1\n",
      "gill.colorp               -2.657e+01  2.312e+05       0        1\n",
      "gill.colorr               -2.657e+01  2.511e+05       0        1\n",
      "gill.coloru               -2.657e+01  2.324e+05       0        1\n",
      "gill.colorw               -2.657e+01  2.306e+05       0        1\n",
      "gill.colory               -2.657e+01  2.390e+05       0        1\n",
      "stalk.shapet              -5.313e+01  2.182e+05       0        1\n",
      "stalk.rootb               -2.657e+01  1.473e+05       0        1\n",
      "stalk.rootc               -1.594e+02  6.793e+05       0        1\n",
      "stalk.roote                2.657e+01  1.339e+05       0        1\n",
      "stalk.rootr               -1.860e+02  5.883e+05       0        1\n",
      "stalk.surface.above.ringk -3.011e-09  2.974e+04       0        1\n",
      "stalk.surface.above.rings -3.887e-10  2.389e+04       0        1\n",
      "stalk.surface.above.ringy -6.045e-06  3.078e+05       0        1\n",
      "stalk.surface.below.ringk -3.646e-09  2.971e+04       0        1\n",
      "stalk.surface.below.rings -6.694e-11  2.385e+04       0        1\n",
      "stalk.surface.below.ringy  2.657e+01  1.888e+05       0        1\n",
      "stalk.color.above.ringc           NA         NA      NA       NA\n",
      "stalk.color.above.ringe    4.640e-08  6.424e+04       0        1\n",
      "stalk.color.above.ringg    4.480e-08  3.495e+04       0        1\n",
      "stalk.color.above.ringn    5.645e-08  2.709e+04       0        1\n",
      "stalk.color.above.ringo   -5.313e+01  2.936e+05       0        1\n",
      "stalk.color.above.ringp    4.476e-08  2.725e+04       0        1\n",
      "stalk.color.above.ringw    4.489e-08  3.106e+04       0        1\n",
      "stalk.color.above.ringy    1.594e+02  5.889e+05       0        1\n",
      "stalk.color.below.ringc           NA         NA      NA       NA\n",
      "stalk.color.below.ringe   -4.638e-08  6.426e+04       0        1\n",
      "stalk.color.below.ringg   -4.543e-08  3.499e+04       0        1\n",
      "stalk.color.below.ringn    2.501e-08  2.722e+04       0        1\n",
      "stalk.color.below.ringo           NA         NA      NA       NA\n",
      "stalk.color.below.ringp   -4.548e-08  2.729e+04       0        1\n",
      "stalk.color.below.ringw   -4.539e-08  3.108e+04       0        1\n",
      "stalk.color.below.ringy    3.493e-08  1.351e+05       0        1\n",
      "veil.coloro                1.184e-09  5.760e+04       0        1\n",
      "veil.colorw                       NA         NA      NA       NA\n",
      "veil.colory                       NA         NA      NA       NA\n",
      "ring.numbero               1.328e+02  5.329e+05       0        1\n",
      "ring.numbert                      NA         NA      NA       NA\n",
      "ring.typef                 5.313e+01  2.733e+05       0        1\n",
      "ring.typel                        NA         NA      NA       NA\n",
      "ring.typen                        NA         NA      NA       NA\n",
      "ring.typep                 2.657e+01  1.131e+05       0        1\n",
      "printBrown                        NA         NA      NA       NA\n",
      "printBuff                 -3.149e-10  8.154e+04       0        1\n",
      "printChocolate            -3.702e-10  8.048e+04       0        1\n",
      "printGreen                 2.301e-10  7.886e+04       0        1\n",
      "printOrange                1.328e+02  3.611e+05       0        1\n",
      "printPurple               -5.117e-10  1.129e+05       0        1\n",
      "printWhite                 7.970e+01  3.444e+05       0        1\n",
      "printYellow               -5.773e-10  8.011e+04       0        1\n",
      "populationc                2.082e-08  6.934e+04       0        1\n",
      "populationn                6.518e-10  4.035e+04       0        1\n",
      "populations                2.521e-10  2.875e+04       0        1\n",
      "populationv                2.064e-08  3.868e+04       0        1\n",
      "populationy                1.842e-08  4.014e+04       0        1\n",
      "habitatg                  -2.712e-08  2.404e+04       0        1\n",
      "habitatl                  -1.167e-08  2.217e+04       0        1\n",
      "habitatm                  -2.705e-08  4.111e+04       0        1\n",
      "habitatp                  -1.038e-08  1.740e+04       0        1\n",
      "habitatu                  -3.640e-08  4.122e+04       0        1\n",
      "habitatw                          NA         NA      NA       NA\n",
      "\n",
      "(Dispersion parameter for binomial family taken to be 1)\n",
      "\n",
      "    Null deviance: 9.0037e+03  on 6498  degrees of freedom\n",
      "Residual deviance: 3.7704e-08  on 6413  degrees of freedom\n",
      "AIC: 172\n",
      "\n",
      "Number of Fisher Scoring iterations: 25\n",
      "\n"
     ]
    }
   ],
   "source": [
    "mylogit <- glm(Class ~., data = traindata, family = 'binomial')\n",
    "print(summary(mylogit))"
   ]
  },
  {
   "cell_type": "code",
   "execution_count": 15,
   "id": "975bcefe",
   "metadata": {
    "scrolled": true
   },
   "outputs": [
    {
     "name": "stderr",
     "output_type": "stream",
     "text": [
      "Warning message in predict.lm(object, newdata, se.fit, scale = 1, type = if (type == :\n",
      "“prediction from a rank-deficient fit may be misleading”\n"
     ]
    },
    {
     "name": "stdout",
     "output_type": "stream",
     "text": [
      "[1] \"test data Class vs predict (5 rows: )\"\n",
      "   testClass pred_value\n",
      "5          0          0\n",
      "6          0          0\n",
      "12         0          0\n",
      "13         0          0\n",
      "17         0          0\n",
      "20         1          1\n"
     ]
    }
   ],
   "source": [
    "pred = predict(mylogit, newdata=testdata,\n",
    "              type = 'response')\n",
    "pred_value = ifelse(pred >0.5,1,0)\n",
    "print('test data Class vs predict (5 rows: )')\n",
    "result = data.frame(testClass = testdata$Class, pred_value)\n",
    "print(head(result))"
   ]
  },
  {
   "cell_type": "code",
   "execution_count": 16,
   "id": "bdfca9ef",
   "metadata": {
    "scrolled": false
   },
   "outputs": [
    {
     "data": {
      "text/plain": [
       "Confusion Matrix and Statistics\n",
       "\n",
       "          Reference\n",
       "Prediction   0   1\n",
       "         0 861   0\n",
       "         1   0 764\n",
       "                                     \n",
       "               Accuracy : 1          \n",
       "                 95% CI : (0.9977, 1)\n",
       "    No Information Rate : 0.5298     \n",
       "    P-Value [Acc > NIR] : < 2.2e-16  \n",
       "                                     \n",
       "                  Kappa : 1          \n",
       "                                     \n",
       " Mcnemar's Test P-Value : NA         \n",
       "                                     \n",
       "            Sensitivity : 1.0000     \n",
       "            Specificity : 1.0000     \n",
       "         Pos Pred Value : 1.0000     \n",
       "         Neg Pred Value : 1.0000     \n",
       "             Prevalence : 0.5298     \n",
       "         Detection Rate : 0.5298     \n",
       "   Detection Prevalence : 0.5298     \n",
       "      Balanced Accuracy : 1.0000     \n",
       "                                     \n",
       "       'Positive' Class : 0          \n",
       "                                     "
      ]
     },
     "metadata": {},
     "output_type": "display_data"
    }
   ],
   "source": [
    "confusionMatrix(as.factor(pred_value), as.factor(testdata$Class))"
   ]
  },
  {
   "cell_type": "markdown",
   "id": "23aaa4e3",
   "metadata": {},
   "source": [
    "## Decision Tree"
   ]
  },
  {
   "cell_type": "code",
   "execution_count": 17,
   "id": "bcfd6662",
   "metadata": {
    "scrolled": true
   },
   "outputs": [
    {
     "name": "stdout",
     "output_type": "stream",
     "text": [
      "Call:\n",
      "rpart(formula = Class ~ ., data = traindata)\n",
      "  n= 6499 \n",
      "\n",
      "          CP nsplit  rel error     xerror         xstd\n",
      "1 0.94250970      0 1.00000000 1.00033622 0.0007522006\n",
      "2 0.03193752      1 0.05749030 0.05754671 0.0056643666\n",
      "3 0.01148069      2 0.02555277 0.02556428 0.0038827003\n",
      "4 0.01000000      3 0.01407208 0.01891168 0.0033645972\n",
      "\n",
      "Variable importance\n",
      "                    odor                    print               gill.color \n",
      "                      25                       19                       16 \n",
      "stalk.surface.below.ring stalk.surface.above.ring                ring.type \n",
      "                      13                       13                       13 \n",
      "\n",
      "Node number 1: 6499 observations,    complexity param=0.9425097\n",
      "  mean=0.4849977, MSE=0.2497749 \n",
      "  left son=2 (3443 obs) right son=3 (3056 obs)\n",
      "  Primary splits:\n",
      "      odor                     splits as  LRRLRLRRR,    improve=0.9425097, (0 missing)\n",
      "      print                    splits as  LRLLLRLRL,    improve=0.5314946, (0 missing)\n",
      "      gill.color               splits as  RLRRLLLLRLLL, improve=0.3765051, (0 missing)\n",
      "      stalk.surface.above.ring splits as  LRLL,         improve=0.3380215, (0 missing)\n",
      "      stalk.surface.below.ring splits as  LRLL,         improve=0.3241551, (0 missing)\n",
      "  Surrogate splits:\n",
      "      print                    splits as  LRLLLLLRL,    agree=0.858, adj=0.697, (0 split)\n",
      "      gill.color               splits as  RLRRLLLLLLLL, agree=0.810, adj=0.597, (0 split)\n",
      "      stalk.surface.below.ring splits as  LRLL,         agree=0.778, adj=0.527, (0 split)\n",
      "      stalk.surface.above.ring splits as  LRLL,         agree=0.776, adj=0.524, (0 split)\n",
      "      ring.type                splits as  RLRRL,        agree=0.775, adj=0.522, (0 split)\n",
      "\n",
      "Node number 2: 3443 observations,    complexity param=0.03193752\n",
      "  mean=0.02788266, MSE=0.02710522 \n",
      "  left son=4 (3389 obs) right son=5 (54 obs)\n",
      "  Primary splits:\n",
      "      print                    splits as  LLLLLRLLL,    improve=0.55552890, (0 missing)\n",
      "      gill.color               splits as  -LLLLLLLRLLL, improve=0.22420950, (0 missing)\n",
      "      stalk.color.below.ring   splits as  --LLLLLLR,    improve=0.19346590, (0 missing)\n",
      "      cap.color                splits as  RLLLLRLLLL,   improve=0.09270324, (0 missing)\n",
      "      stalk.surface.above.ring splits as  LRLR,         improve=0.06033502, (0 missing)\n",
      "  Surrogate splits:\n",
      "      gill.color splits as  -LLLLLLLRLLL, agree=0.991, adj=0.407, (0 split)\n",
      "\n",
      "Node number 3: 3056 observations\n",
      "  mean=1, MSE=0 \n",
      "\n",
      "Node number 4: 3389 observations,    complexity param=0.01148069\n",
      "  mean=0.01239304, MSE=0.01223945 \n",
      "  left son=8 (3370 obs) right son=9 (19 obs)\n",
      "  Primary splits:\n",
      "      stalk.color.below.ring   splits as  --LLLLLLR, improve=0.44929350, (0 missing)\n",
      "      stalk.surface.above.ring splits as  LRLR,      improve=0.15996160, (0 missing)\n",
      "      gill.size                splits as  LR,        improve=0.14437780, (0 missing)\n",
      "      stalk.surface.below.ring splits as  LLLR,      improve=0.12658810, (0 missing)\n",
      "      print                    splits as  LLLLL-LRL, improve=0.07067462, (0 missing)\n",
      "  Surrogate splits:\n",
      "      stalk.color.above.ring splits as  --LLLLLLR, agree=0.996, adj=0.263, (0 split)\n",
      "      veil.color             splits as  LLLR,      agree=0.996, adj=0.263, (0 split)\n",
      "\n",
      "Node number 5: 54 observations\n",
      "  mean=1, MSE=0 \n",
      "\n",
      "Node number 8: 3370 observations\n",
      "  mean=0.006824926, MSE=0.006778346 \n",
      "\n",
      "Node number 9: 19 observations\n",
      "  mean=1, MSE=0 \n",
      "\n",
      "n= 6499 \n",
      "\n",
      "node), split, n, deviance, yval\n",
      "      * denotes terminal node\n",
      "\n",
      "1) root 6499 1623.28700 0.484997700  \n",
      "  2) odor=Almonds,Fishy,Musty 3443   93.32326 0.027882660  \n",
      "    4) print=Black,Brown,Buff,Chocolate,Green,Purple,White,Yellow 3389   41.47949 0.012393040  \n",
      "      8) stalk.color.below.ring=e,g,n,o,p,w 3370   22.84303 0.006824926 *\n",
      "      9) stalk.color.below.ring=y 19    0.00000 1.000000000 *\n",
      "    5) print=Orange 54    0.00000 1.000000000 *\n",
      "  3) odor=Anise,Creosote,Foul,None,Pungent,Spicy 3056    0.00000 1.000000000 *\n"
     ]
    }
   ],
   "source": [
    "classifier_dt = rpart(Class ~.,\n",
    "                      data = traindata)\n",
    "print(summary(classifier_dt))"
   ]
  },
  {
   "cell_type": "code",
   "execution_count": 18,
   "id": "0e2f0c89",
   "metadata": {
    "scrolled": true
   },
   "outputs": [
    {
     "name": "stdout",
     "output_type": "stream",
     "text": [
      "[1] \"test data Class vs predict (5 rows: )\"\n",
      "   testClass pred_value1\n",
      "5          0           0\n",
      "6          0           0\n",
      "12         0           0\n",
      "13         0           0\n",
      "17         0           0\n",
      "20         1           1\n"
     ]
    }
   ],
   "source": [
    "pred1 = predict(classifier_dt, newdata=testdata)\n",
    "pred_value1 = ifelse(pred1 >0.5,1,0)\n",
    "print('test data Class vs predict (5 rows: )')\n",
    "result1 = data.frame(testClass = testdata$Class, pred_value1)\n",
    "print(head(result1))"
   ]
  },
  {
   "cell_type": "code",
   "execution_count": 19,
   "id": "76e6100e",
   "metadata": {
    "scrolled": true
   },
   "outputs": [
    {
     "data": {
      "text/plain": [
       "Confusion Matrix and Statistics\n",
       "\n",
       "          Reference\n",
       "Prediction   0   1\n",
       "         0 861   1\n",
       "         1   0 763\n",
       "                                     \n",
       "               Accuracy : 0.9994     \n",
       "                 95% CI : (0.9966, 1)\n",
       "    No Information Rate : 0.5298     \n",
       "    P-Value [Acc > NIR] : <2e-16     \n",
       "                                     \n",
       "                  Kappa : 0.9988     \n",
       "                                     \n",
       " Mcnemar's Test P-Value : 1          \n",
       "                                     \n",
       "            Sensitivity : 1.0000     \n",
       "            Specificity : 0.9987     \n",
       "         Pos Pred Value : 0.9988     \n",
       "         Neg Pred Value : 1.0000     \n",
       "             Prevalence : 0.5298     \n",
       "         Detection Rate : 0.5298     \n",
       "   Detection Prevalence : 0.5305     \n",
       "      Balanced Accuracy : 0.9993     \n",
       "                                     \n",
       "       'Positive' Class : 0          \n",
       "                                     "
      ]
     },
     "metadata": {},
     "output_type": "display_data"
    }
   ],
   "source": [
    "confusionMatrix(as.factor(pred_value1), as.factor(testdata$Class))"
   ]
  }
 ],
 "metadata": {
  "kernelspec": {
   "display_name": "R",
   "language": "R",
   "name": "ir"
  },
  "language_info": {
   "codemirror_mode": "r",
   "file_extension": ".r",
   "mimetype": "text/x-r-source",
   "name": "R",
   "pygments_lexer": "r",
   "version": "4.2.2"
  }
 },
 "nbformat": 4,
 "nbformat_minor": 5
}
